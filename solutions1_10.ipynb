{
 "cells": [
  {
   "cell_type": "markdown",
   "id": "ce7e0483",
   "metadata": {},
   "source": [
    "# Multiples of 3 or 5\n",
    "If we list all the natural numbers below 10 that are multiples of 3 or 5, we get 3, 5, 6 and 9. The sum of these multiples is 23.\n",
    "\n",
    "Find the sum of all the multiples of 3 or 5 below 1000."
   ]
  },
  {
   "cell_type": "markdown",
   "id": "09bbd45e",
   "metadata": {},
   "source": [
    "## Solution"
   ]
  },
  {
   "cell_type": "markdown",
   "id": "ebfc4202",
   "metadata": {},
   "source": [
    "If $x_i \\% 3 = 0$, so $x_n = 3n$. It must be $x_n=3n<1000$, so $n<=333$.\n",
    "\n",
    "\n",
    "The same: $y_i \\% 5 = 0$, so $y_m = 5m$. It must be $y_m= 5m<1000$, so $m <= 199$.\n",
    "\n",
    "\n",
    "But if we sum the sums we will count some numbers twice: $z_k \\% 15 = 0$. So we need to distract this sum. \n",
    "\n",
    "It must be $z_k = 15k < 1000$, so $k<=66$."
   ]
  },
  {
   "cell_type": "markdown",
   "id": "2807031c",
   "metadata": {},
   "source": [
    "We need to count: $3\\sum_{n=1}^{333} n + 5 \\sum_{m=1}^{199} m - 15 \\sum_{k=1}^{66} k$"
   ]
  },
  {
   "cell_type": "code",
   "execution_count": 9,
   "id": "21e5829c",
   "metadata": {},
   "outputs": [],
   "source": [
    "def count_sum_i(end):\n",
    "    if end < 1:\n",
    "        raise ValueError(\"End must be >= 1\")\n",
    "    return (1 + end) / 2 * end"
   ]
  },
  {
   "cell_type": "code",
   "execution_count": 13,
   "id": "60144899",
   "metadata": {},
   "outputs": [
    {
     "name": "stdout",
     "output_type": "stream",
     "text": [
      "233168.0\n"
     ]
    }
   ],
   "source": [
    "print(3*count_sum_i(333) + 5*count_sum_i(199) - 15*count_sum_i(66))"
   ]
  },
  {
   "cell_type": "markdown",
   "id": "8b245342",
   "metadata": {},
   "source": [
    "## Answer\n",
    "233168"
   ]
  },
  {
   "cell_type": "markdown",
   "id": "2a95f257",
   "metadata": {},
   "source": []
  }
 ],
 "metadata": {
  "kernelspec": {
   "display_name": "base",
   "language": "python",
   "name": "python3"
  },
  "language_info": {
   "codemirror_mode": {
    "name": "ipython",
    "version": 3
   },
   "file_extension": ".py",
   "mimetype": "text/x-python",
   "name": "python",
   "nbconvert_exporter": "python",
   "pygments_lexer": "ipython3",
   "version": "3.13.5"
  }
 },
 "nbformat": 4,
 "nbformat_minor": 5
}
